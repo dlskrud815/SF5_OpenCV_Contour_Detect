{
 "cells": [
  {
   "cell_type": "code",
   "execution_count": 1,
   "id": "72088565-f887-4bc9-abe4-908419f91394",
   "metadata": {},
   "outputs": [
    {
     "data": {
      "text/plain": [
       "'C:\\\\Users\\\\lng\\\\OneDrive - UOU\\\\바탕 화면\\\\최종프로젝트_Unity'"
      ]
     },
     "execution_count": 1,
     "metadata": {},
     "output_type": "execute_result"
    }
   ],
   "source": [
    "pwd"
   ]
  },
  {
   "cell_type": "code",
   "execution_count": 45,
   "id": "d597874a-1ea2-4f3d-9b9a-afc08eef5aae",
   "metadata": {},
   "outputs": [],
   "source": [
    "import cv2\n",
    "import numpy as np\n",
    "\n",
    "original = cv2.imread('conveyor_original.png', cv2.IMREAD_GRAYSCALE)\n",
    "object = cv2.imread('conveyor_object.png', cv2.IMREAD_GRAYSCALE)\n",
    "object_left = cv2.imread('conveyor_object_left.png', cv2.IMREAD_GRAYSCALE)\n",
    "\n",
    "original = cv2.resize(original, (original.shape[1]//2, original.shape[0]//2))\n",
    "object = cv2.resize(object, (object.shape[1]//2, object.shape[0]//2))\n",
    "object_left = cv2.resize(object_left, (object_left.shape[1]//2, object_left.shape[0]//2))\n",
    "\n",
    "new_height = min(original.shape[0], object.shape[0], object_left.shape[0])\n",
    "new_width = min(original.shape[1], object.shape[1], object_left.shape[1])\n",
    "\n",
    "original_resized = cv2.resize(original, (new_width, new_height))\n",
    "object_resized = cv2.resize(object, (new_width, new_height))\n",
    "object_left_resized = cv2.resize(object_left, (new_width, new_height))\n",
    "\n",
    "cv2.imshow('conveyor_original', original_resized)\n",
    "cv2.imshow('conveyor_object', object_resized)\n",
    "cv2.imshow('conveyor_object_left', object_left_resized)\n",
    "\n",
    "cv2.waitKey(0)\n",
    "cv2.destroyAllWindows()\n"
   ]
  },
  {
   "cell_type": "code",
   "execution_count": 48,
   "id": "64c73e28-a133-43e6-b17b-f17d0b350bb5",
   "metadata": {},
   "outputs": [
    {
     "name": "stdout",
     "output_type": "stream",
     "text": [
      "(364, 33)\n",
      "(364, 163)\n",
      "객체가 중앙에 위치하지 않습니다.\n"
     ]
    }
   ],
   "source": [
    "image1 = original_resized.copy()\n",
    "#image2 = object_resized.copy()\n",
    "image2 = object_left_resized.copy()\n",
    "\n",
    "#image_center = (image2.shape[1] // 2, image2.shape[0] // 2)\n",
    "#print(image_center)\n",
    "\n",
    "diff = cv2.absdiff(image1, image2)\n",
    "_, thresh = cv2.threshold(diff, 25, 255, cv2.THRESH_BINARY)\n",
    "contours, _ = cv2.findContours(thresh, cv2.RETR_EXTERNAL, cv2.CHAIN_APPROX_SIMPLE)\n",
    "\n",
    "# 컨투어가 감지되었는지 확인\n",
    "if contours:\n",
    "    # 가장 큰 컨투어 찾기\n",
    "    cnt = max(contours, key=cv2.contourArea)\n",
    "\n",
    "    # 최소 면적 기준으로 필터링\n",
    "    if cv2.contourArea(cnt) > 500:\n",
    "        # 객체의 바운딩 박스 계산\n",
    "        x, y, w, h = cv2.boundingRect(cnt)\n",
    "        object_center = (x + w // 2, y + h // 2)  # 객체 중심 좌표\n",
    "        print(object_center)\n",
    "        \n",
    "        # 객체 중심이 이미지 중심에 가까운지 확인 (허용 오차 50 픽셀)\n",
    "        tolerance = 5\n",
    "        image_center = (image1.shape[1] // 2, image1.shape[0] // 2)\n",
    "        print(image_center)\n",
    "        if abs(object_center[1] - image_center[1]) < tolerance:\n",
    "            # return True\n",
    "            print(\"객체가 중앙에 위치합니다.\")\n",
    "        else:\n",
    "            print(\"객체가 중앙에 위치하지 않습니다.\")\n",
    "else:\n",
    "    print(\"컨투어가 감지되지 않았습니다.\")\n",
    "    # return False\n",
    "\n",
    "# 컨투어를 원본 이미지에 그리기ㅇ\n",
    "image_with_contours = image1.copy()  # 컨투어를 그릴 이미지 복사본 생성\n",
    "cv2.drawContours(image_with_contours, contours, -1, (0, 255, 0), 2)  # 녹색 컨투어 그리기\n",
    "\n",
    "# 컨투어를 그린 이미지 표시\n",
    "cv2.imshow('Contours', image_with_contours)\n",
    "cv2.waitKey(0)\n",
    "cv2.destroyAllWindows()"
   ]
  }
 ],
 "metadata": {
  "kernelspec": {
   "display_name": "Python 3 (ipykernel)",
   "language": "python",
   "name": "python3"
  },
  "language_info": {
   "codemirror_mode": {
    "name": "ipython",
    "version": 3
   },
   "file_extension": ".py",
   "mimetype": "text/x-python",
   "name": "python",
   "nbconvert_exporter": "python",
   "pygments_lexer": "ipython3",
   "version": "3.12.3"
  }
 },
 "nbformat": 4,
 "nbformat_minor": 5
}
